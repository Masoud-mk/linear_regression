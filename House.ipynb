{
 "cells": [
  {
   "cell_type": "markdown",
   "metadata": {},
   "source": [
    "<h3><strong>predicting house price</strong></h3>\n",
    "\n",
    "<p><strong>in this programming case, we want to use machine learning (simple regression) to predict the price of house.&nbsp;We just get one input which is the house size and az output we have&nbsp;the price of house.</strong></p>\n"
   ]
  },
  {
   "cell_type": "markdown",
   "metadata": {},
   "source": [
    "###### Firstly, we add some packages that we need to use in our programm"
   ]
  },
  {
   "cell_type": "code",
   "execution_count": 7,
   "metadata": {},
   "outputs": [],
   "source": [
    "import numpy as np\n",
    "import pandas as pd\n",
    "import matplotlib.pyplot as plt"
   ]
  },
  {
   "cell_type": "markdown",
   "metadata": {},
   "source": [
    "#### Then we should read our data with pandas ,geting a sample of data to see what columns we have .\n",
    "<br>"
   ]
  },
  {
   "cell_type": "code",
   "execution_count": 8,
   "metadata": {
    "pycharm": {
     "name": "#%%\n"
    }
   },
   "outputs": [
    {
     "name": "stdout",
     "output_type": "stream",
     "text": [
      "(21613, 21)\n"
     ]
    },
    {
     "data": {
      "text/html": [
       "<div>\n",
       "<style scoped>\n",
       "    .dataframe tbody tr th:only-of-type {\n",
       "        vertical-align: middle;\n",
       "    }\n",
       "\n",
       "    .dataframe tbody tr th {\n",
       "        vertical-align: top;\n",
       "    }\n",
       "\n",
       "    .dataframe thead th {\n",
       "        text-align: right;\n",
       "    }\n",
       "</style>\n",
       "<table border=\"1\" class=\"dataframe\">\n",
       "  <thead>\n",
       "    <tr style=\"text-align: right;\">\n",
       "      <th></th>\n",
       "      <th>id</th>\n",
       "      <th>date</th>\n",
       "      <th>price</th>\n",
       "      <th>bedrooms</th>\n",
       "      <th>bathrooms</th>\n",
       "      <th>sqft_living</th>\n",
       "      <th>sqft_lot</th>\n",
       "      <th>floors</th>\n",
       "      <th>waterfront</th>\n",
       "      <th>view</th>\n",
       "      <th>...</th>\n",
       "      <th>grade</th>\n",
       "      <th>sqft_above</th>\n",
       "      <th>sqft_basement</th>\n",
       "      <th>yr_built</th>\n",
       "      <th>yr_renovated</th>\n",
       "      <th>zipcode</th>\n",
       "      <th>lat</th>\n",
       "      <th>long</th>\n",
       "      <th>sqft_living15</th>\n",
       "      <th>sqft_lot15</th>\n",
       "    </tr>\n",
       "  </thead>\n",
       "  <tbody>\n",
       "    <tr>\n",
       "      <th>0</th>\n",
       "      <td>7129300520</td>\n",
       "      <td>20141013T000000</td>\n",
       "      <td>221900.0</td>\n",
       "      <td>3</td>\n",
       "      <td>1.00</td>\n",
       "      <td>1180</td>\n",
       "      <td>5650</td>\n",
       "      <td>1.0</td>\n",
       "      <td>0</td>\n",
       "      <td>0</td>\n",
       "      <td>...</td>\n",
       "      <td>7</td>\n",
       "      <td>1180</td>\n",
       "      <td>0</td>\n",
       "      <td>1955</td>\n",
       "      <td>0</td>\n",
       "      <td>98178</td>\n",
       "      <td>47.5112</td>\n",
       "      <td>-122.257</td>\n",
       "      <td>1340</td>\n",
       "      <td>5650</td>\n",
       "    </tr>\n",
       "    <tr>\n",
       "      <th>1</th>\n",
       "      <td>6414100192</td>\n",
       "      <td>20141209T000000</td>\n",
       "      <td>538000.0</td>\n",
       "      <td>3</td>\n",
       "      <td>2.25</td>\n",
       "      <td>2570</td>\n",
       "      <td>7242</td>\n",
       "      <td>2.0</td>\n",
       "      <td>0</td>\n",
       "      <td>0</td>\n",
       "      <td>...</td>\n",
       "      <td>7</td>\n",
       "      <td>2170</td>\n",
       "      <td>400</td>\n",
       "      <td>1951</td>\n",
       "      <td>1991</td>\n",
       "      <td>98125</td>\n",
       "      <td>47.7210</td>\n",
       "      <td>-122.319</td>\n",
       "      <td>1690</td>\n",
       "      <td>7639</td>\n",
       "    </tr>\n",
       "    <tr>\n",
       "      <th>2</th>\n",
       "      <td>5631500400</td>\n",
       "      <td>20150225T000000</td>\n",
       "      <td>180000.0</td>\n",
       "      <td>2</td>\n",
       "      <td>1.00</td>\n",
       "      <td>770</td>\n",
       "      <td>10000</td>\n",
       "      <td>1.0</td>\n",
       "      <td>0</td>\n",
       "      <td>0</td>\n",
       "      <td>...</td>\n",
       "      <td>6</td>\n",
       "      <td>770</td>\n",
       "      <td>0</td>\n",
       "      <td>1933</td>\n",
       "      <td>0</td>\n",
       "      <td>98028</td>\n",
       "      <td>47.7379</td>\n",
       "      <td>-122.233</td>\n",
       "      <td>2720</td>\n",
       "      <td>8062</td>\n",
       "    </tr>\n",
       "    <tr>\n",
       "      <th>3</th>\n",
       "      <td>2487200875</td>\n",
       "      <td>20141209T000000</td>\n",
       "      <td>604000.0</td>\n",
       "      <td>4</td>\n",
       "      <td>3.00</td>\n",
       "      <td>1960</td>\n",
       "      <td>5000</td>\n",
       "      <td>1.0</td>\n",
       "      <td>0</td>\n",
       "      <td>0</td>\n",
       "      <td>...</td>\n",
       "      <td>7</td>\n",
       "      <td>1050</td>\n",
       "      <td>910</td>\n",
       "      <td>1965</td>\n",
       "      <td>0</td>\n",
       "      <td>98136</td>\n",
       "      <td>47.5208</td>\n",
       "      <td>-122.393</td>\n",
       "      <td>1360</td>\n",
       "      <td>5000</td>\n",
       "    </tr>\n",
       "    <tr>\n",
       "      <th>4</th>\n",
       "      <td>1954400510</td>\n",
       "      <td>20150218T000000</td>\n",
       "      <td>510000.0</td>\n",
       "      <td>3</td>\n",
       "      <td>2.00</td>\n",
       "      <td>1680</td>\n",
       "      <td>8080</td>\n",
       "      <td>1.0</td>\n",
       "      <td>0</td>\n",
       "      <td>0</td>\n",
       "      <td>...</td>\n",
       "      <td>8</td>\n",
       "      <td>1680</td>\n",
       "      <td>0</td>\n",
       "      <td>1987</td>\n",
       "      <td>0</td>\n",
       "      <td>98074</td>\n",
       "      <td>47.6168</td>\n",
       "      <td>-122.045</td>\n",
       "      <td>1800</td>\n",
       "      <td>7503</td>\n",
       "    </tr>\n",
       "  </tbody>\n",
       "</table>\n",
       "<p>5 rows × 21 columns</p>\n",
       "</div>"
      ],
      "text/plain": [
       "           id             date     price  bedrooms  bathrooms  sqft_living  \\\n",
       "0  7129300520  20141013T000000  221900.0         3       1.00         1180   \n",
       "1  6414100192  20141209T000000  538000.0         3       2.25         2570   \n",
       "2  5631500400  20150225T000000  180000.0         2       1.00          770   \n",
       "3  2487200875  20141209T000000  604000.0         4       3.00         1960   \n",
       "4  1954400510  20150218T000000  510000.0         3       2.00         1680   \n",
       "\n",
       "   sqft_lot  floors  waterfront  view  ...  grade  sqft_above  sqft_basement  \\\n",
       "0      5650     1.0           0     0  ...      7        1180              0   \n",
       "1      7242     2.0           0     0  ...      7        2170            400   \n",
       "2     10000     1.0           0     0  ...      6         770              0   \n",
       "3      5000     1.0           0     0  ...      7        1050            910   \n",
       "4      8080     1.0           0     0  ...      8        1680              0   \n",
       "\n",
       "   yr_built  yr_renovated  zipcode      lat     long  sqft_living15  \\\n",
       "0      1955             0    98178  47.5112 -122.257           1340   \n",
       "1      1951          1991    98125  47.7210 -122.319           1690   \n",
       "2      1933             0    98028  47.7379 -122.233           2720   \n",
       "3      1965             0    98136  47.5208 -122.393           1360   \n",
       "4      1987             0    98074  47.6168 -122.045           1800   \n",
       "\n",
       "   sqft_lot15  \n",
       "0        5650  \n",
       "1        7639  \n",
       "2        8062  \n",
       "3        5000  \n",
       "4        7503  \n",
       "\n",
       "[5 rows x 21 columns]"
      ]
     },
     "execution_count": 8,
     "metadata": {},
     "output_type": "execute_result"
    }
   ],
   "source": [
    "address = 'house_data.csv'\n",
    "data = pd.read_csv(address)\n",
    "print(data.shape)\n",
    "data.head()"
   ]
  },
  {
   "cell_type": "markdown",
   "metadata": {},
   "source": [
    "#### now we want to see the graph of our data and how much these 2 data depend togheder ."
   ]
  },
  {
   "cell_type": "code",
   "execution_count": 9,
   "metadata": {},
   "outputs": [
    {
     "data": {
      "image/png": "[encoded data removed]",
      "text/plain": [
       "<Figure size 432x288 with 1 Axes>"
      ]
     },
     "metadata": {
      "needs_background": "light"
     },
     "output_type": "display_data"
    }
   ],
   "source": [
    "X = data['sqft_living'].head(100)\n",
    "Y = data['price'].head(100)\n",
    "plt.scatter(X,Y)\n",
    "plt.ylabel('Price')\n",
    "plt.xlabel('Size of house (Squere feet)')\n",
    "plt.title('Table price and squere of living')\n",
    "plt.axis([100,6000,1000,2100000])\n",
    "plt.legend()\n",
    "plt.show()"
   ]
  },
  {
   "cell_type": "markdown",
   "metadata": {},
   "source": [
    "<h4>Now we need a function which can predict the nearest price of house with a real price, moreover, we know that we have to use this formula:</h4>\n",
    "\n",
    "<h4><br />\n",
    "<span style=\"color:#e74c3c\"><strong>price ( Y ) = W0 + W1(square feet ( X ) ) + e.</strong></span></h4>\n",
    "\n",
    "<h4 sryle =\"line-high:2\"><br />\n",
    "This is a line Formula y=mx+c. If we match these 2 formulas, we can result that W1 is our slop and W0 is our started line and e is an error in our case.    In addition, we do not have W1 and W0, so first we have to find these two variables. Therefore, the formula of finding m or W1 ( SLOP ) is : &nbsp;</h4>\n",
    "\n",
    "<h4><span style=\"color:#e74c3c\"><span style=\"font-size:22px\"><strong>&Sigma; (</strong></span>( X - mean( X ) ) * ( Y - mean ( Y ) / &nbsp; ( X - mean( X ) )<sup>2&nbsp;</sup><strong>)</strong></span></h4>\n",
    "\n",
    "<h4>Furthermore, we can calculate the W0 base on W1 and Y and X:</h4>\n",
    "\n",
    "<h4><br />\n",
    "<span style=\"color:#e74c3c\">Y = MX + C , C = Y-MX</span></h4>\n"
   ]
  },
  {
   "cell_type": "code",
   "execution_count": 10,
   "metadata": {},
   "outputs": [
    {
     "name": "stdout",
     "output_type": "stream",
     "text": [
      "230.2175710443931 38289.305008155236\n"
     ]
    }
   ],
   "source": [
    "#mean x and y\n",
    "mean_x = np.mean(X)\n",
    "mean_y = np.mean(Y)\n",
    "#total number of values\n",
    "m = len(X)\n",
    "#using the formula to finding W0 and W1\n",
    "number = 0\n",
    "dumer = 0\n",
    "for i in range(m):\n",
    "    number += (X[i]-mean_x) * (Y[i]-mean_y)\n",
    "    dumer += (X[i]-mean_x) ** 2\n",
    "w1 = number / dumer\n",
    "w0 = mean_y - (w1 * mean_x)\n",
    "print(w1,w0)"
   ]
  },
  {
   "cell_type": "markdown",
   "metadata": {},
   "source": [
    "<h4><span style=\"font-family:Trebuchet MS,Helvetica,sans-serif\">now we want to use mathplot to display our regression line in our real data</span></h4>\n"
   ]
  },
  {
   "cell_type": "code",
   "execution_count": 11,
   "metadata": {},
   "outputs": [
    {
     "data": {
      "image/png": "[encoded data removed]",
      "text/plain": [
       "<Figure size 432x288 with 1 Axes>"
      ]
     },
     "metadata": {
      "needs_background": "light"
     },
     "output_type": "display_data"
    }
   ],
   "source": [
    "min_x = np.min(X) \n",
    "max_x = np.max(X) \n",
    "# Start and end point of line\n",
    "\n",
    "x = np.linspace(min_x,max_x)\n",
    "y = (w0) + (w1*x) \n",
    "\n",
    "#regression line\n",
    "\n",
    "plt.plot(x,y, color='red',label= 'regression line')\n",
    "\n",
    "#real data scatter\n",
    "\n",
    "plt.scatter(X,Y)\n",
    "plt.ylabel('Price')\n",
    "plt.xlabel('Size of house (Squere feet)')\n",
    "plt.title('Table price and squere of living')\n",
    "plt.legend()\n",
    "plt.show()"
   ]
  },
  {
   "cell_type": "markdown",
   "metadata": {},
   "source": [
    "<div><span style=\"font-family:Trebuchet MS,Helvetica,sans-serif\">Now we have RSS which is the summation of Error ( distance between our real data and our predicted data ) and TSS&nbsp;which is the summation of mean error ( distance between our real data and our mean Y). After measuring this 2 we should find R-squared ( value is a statistical measure of how close the data are to the fitted regression line )</span>\n",
    "\n",
    "</div>\n"
   ]
  },
  {
   "cell_type": "code",
   "execution_count": 12,
   "metadata": {},
   "outputs": [
    {
     "name": "stdout",
     "output_type": "stream",
     "text": [
      "0.4232835984662233\n"
     ]
    }
   ],
   "source": [
    "rss = 0\n",
    "tss = 0\n",
    "for i in range (len(Y)):\n",
    "    y_predict = w0 + w1 *X[i] \n",
    "    rss += (Y[i] - y_predict) ** 2 \n",
    "    tss += (Y[i] - mean_y) ** 2\n",
    "r2 =1 - (rss/tss)\n",
    "print(r2)"
   ]
  },
  {
   "cell_type": "markdown",
   "metadata": {},
   "source": [
    "<h4><span style=\"font-family:Trebuchet MS,Helvetica,sans-serif\">now we write a function to give us the predicted price of houses base on the pieces of information that we calculated.</span></h4>\n"
   ]
  },
  {
   "cell_type": "code",
   "execution_count": 13,
   "metadata": {},
   "outputs": [],
   "source": [
    "def predict(x):\n",
    "    m = len(x)\n",
    "    error = []\n",
    "    for i in range(m):\n",
    "        y_predict = w0 + w1 *X[i] \n",
    "        error = Y[i]-y_predict\n",
    "        actual = y_predict+error\n",
    "        print('This is Predict value for index',i+1,':',y_predict,\"\\n\",'This is Actual value:', actual,\"\\n\")"
   ]
  },
  {
   "cell_type": "code",
   "execution_count": 14,
   "metadata": {},
   "outputs": [
    {
     "name": "stdout",
     "output_type": "stream",
     "text": [
      "This is Predict value for index 1 : 309946.0388405391 \n",
      " This is Actual value: 221900.0 \n",
      "\n",
      "This is Predict value for index 2 : 629948.4625922455 \n",
      " This is Actual value: 538000.0 \n",
      "\n",
      "This is Predict value for index 3 : 215556.83471233794 \n",
      " This is Actual value: 180000.0 \n",
      "\n",
      "This is Predict value for index 4 : 489515.74425516574 \n",
      " This is Actual value: 604000.0 \n",
      "\n",
      "This is Predict value for index 5 : 425054.8243627357 \n",
      " This is Actual value: 510000.0 \n",
      "\n",
      "This is Predict value for index 6 : 1286068.5400687659 \n",
      " This is Actual value: 1225000.0 \n",
      "\n",
      "This is Predict value for index 7 : 433112.4393492894 \n",
      " This is Actual value: 257500.0 \n",
      "\n",
      "This is Predict value for index 8 : 282319.93031521194 \n",
      " This is Actual value: 291850.0 \n",
      "\n",
      "This is Predict value for index 9 : 448076.581467175 \n",
      " This is Actual value: 229500.0 \n",
      "\n",
      "This is Predict value for index 10 : 473400.5142820582 \n",
      " This is Actual value: 323000.0 \n",
      "\n",
      "This is Predict value for index 11 : 857863.8579261948 \n",
      " This is Actual value: 662500.0 \n",
      "\n",
      "This is Predict value for index 12 : 305341.68741965125 \n",
      " This is Actual value: 468000.0 \n",
      "\n",
      "This is Predict value for index 13 : 367500.4316016374 \n",
      " This is Actual value: 310000.0 \n",
      "\n",
      "This is Predict value for index 14 : 353687.3773389738 \n",
      " This is Actual value: 400000.0 \n",
      "\n",
      "This is Predict value for index 15 : 454983.1085985068 \n",
      " This is Actual value: 530000.0 \n",
      "\n",
      "This is Predict value for index 16 : 717431.1395891148 \n",
      " This is Actual value: 650000.0 \n",
      "\n",
      "This is Predict value for index 17 : 473400.5142820582 \n",
      " This is Actual value: 395000.0 \n",
      "\n",
      "This is Predict value for index 18 : 406637.4186791842 \n",
      " This is Actual value: 485000.0 \n",
      "\n",
      "This is Predict value for index 19 : 314550.390261427 \n",
      " This is Actual value: 189000.0 \n",
      "\n",
      "This is Predict value for index 20 : 326061.26881364663 \n",
      " This is Actual value: 230000.0 \n",
      "\n"
     ]
    }
   ],
   "source": [
    "predict(Y.head(20))"
   ]
  },
  {
   "cell_type": "markdown",
   "metadata": {},
   "source": [
    "<h4><span style=\"font-family:Trebuchet MS,Helvetica,sans-serif\">In conclusion, we can use this algorithm to see the nearest line for the best regression line . In fact, this is not the best form of our regression line.</span></h4>\n",
    "\n"
   ]
  }
 ],
 "metadata": {
  "kernelspec": {
   "display_name": "Python 3",
   "language": "python",
   "name": "python3"
  },
  "language_info": {
   "codemirror_mode": {
    "name": "ipython",
    "version": 3
   },
   "file_extension": ".py",
   "mimetype": "text/x-python",
   "name": "python",
   "nbconvert_exporter": "python",
   "pygments_lexer": "ipython3",
   "version": "3.7.3"
  },
  "pycharm": {
   "stem_cell": {
    "cell_type": "raw",
    "metadata": {
     "collapsed": false
    },
    "source": []
   }
  }
 },
 "nbformat": 4,
 "nbformat_minor": 2
}
